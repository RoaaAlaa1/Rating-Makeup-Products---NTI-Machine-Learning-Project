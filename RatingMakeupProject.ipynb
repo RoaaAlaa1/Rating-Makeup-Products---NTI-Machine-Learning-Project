{
  "nbformat": 4,
  "nbformat_minor": 0,
  "metadata": {
    "colab": {
      "provenance": []
    },
    "kernelspec": {
      "name": "python3",
      "display_name": "Python 3"
    },
    "language_info": {
      "name": "python"
    }
  },
  "cells": [
    {
      "cell_type": "markdown",
      "source": [
        "# Project Overview: Product Rating Prediction\n",
        "# By: Roaa Alaa Abdelghany & Mariam Khaled Ahmed\n",
        "\n",
        "## Objective\n",
        "The goal of this project is to predict whether a product will receive a **high rating (good)** or a **low rating (bad)** based on its features.  \n",
        "The target variable is derived from the product's **average rating**:\n",
        "- **Good rating:** ≥ 4 (labeled as 1)\n",
        "- **Bad rating:** < 4 (labeled as 0)\n",
        "\n",
        "This is primarily a **binary classification task**, with an additional Linear Regression model included to analyze the ratings as continuous values.\n",
        "\n",
        "---\n",
        "\n",
        "## Features (X)\n",
        "The features represent various attributes of the products, like its name, brand, price, and rating stars. During preprocessing, the following steps were applied:\n",
        "- Dropped irrelevant/useless columns (like product_link and product_link_id).\n",
        "- Scaled numerical features for algorithms sensitive to feature magnitude (e.g., SVM, KNN).\n",
        "- Encoded categorical variables where needed.\n",
        "\n",
        "---\n",
        "\n",
        "## Target (y)\n",
        "The target is a binary indicator of rating quality:\n",
        "- `1` → Good rating (≥ 4)\n",
        "- `0` → Bad rating (< 4)\n",
        "\n",
        "For the **XGBoost model**, the target was prepared specifically in binary form.  \n",
        "\n",
        "---\n",
        "\n",
        "## Project Workflow\n",
        "1. **Preprocessing:** Cleaned the dataset, dropped unnecessary columns, scaled data, and separated features (`X`) from the target (`y`).\n",
        "2. **Model Training:** Multiple algorithms were trained and tested.\n",
        "3. **Evaluation:** Accuracy scores were used for classification models, while R² was used for Linear Regression.\n",
        "4. **Model Saving & Prediction:** Each trained model was saved using `pickle` and can be reloaded for predictions on new data.\n",
        "\n",
        "---\n",
        "\n",
        "## Algorithms Used\n",
        "\n",
        "### Classification Models\n",
        "- Support Vector Machine (SVM)\n",
        "- Random Forest\n",
        "- Bagging Classifier\n",
        "- AdaBoost Classifier\n",
        "- XGBoost (binary classification)\n",
        "- Logistic Regression\n",
        "- k-Nearest Neighbors (KNN)\n",
        "- Naive Bayes (GaussianNB)\n",
        "---\n",
        "\n",
        "# Libraries and Their Usage\n",
        "\n",
        "## Data Handling & Preprocessing\n",
        "- **pandas (as pd):**  \n",
        "  Used for loading, manipulating, and analyzing datasets. Provides DataFrame and Series objects to store and process tabular data.\n",
        "\n",
        "- **train_test_split (from sklearn.model_selection):**  \n",
        "  Splits the dataset into training and testing subsets to evaluate model generalization.\n",
        "\n",
        "- **OneHotEncoder (from sklearn.preprocessing):**  \n",
        "  Converts categorical variables into one-hot encoded (binary) columns.\n",
        "\n",
        "- **StandardScaler (from sklearn.preprocessing):**  \n",
        "  Standardizes numerical features by removing the mean and scaling to unit variance.\n",
        "\n",
        "- **ColumnTransformer (from sklearn.compose):**  \n",
        "  Allows applying different preprocessing steps to different columns (e.g., scaling numerical features and encoding categorical ones simultaneously).\n",
        "\n",
        "- **Pipeline (from sklearn.pipeline):**  \n",
        "  Chains preprocessing steps and models into a single workflow, ensuring consistent data flow during training and prediction.\n",
        "\n",
        "- **SimpleImputer (from sklearn.impute):**  \n",
        "  Handles missing values by imputing them with a chosen strategy (mean, median, most frequent, etc.).\n",
        "\n",
        "---\n",
        "\n",
        "## Evaluation Metrics\n",
        "- **accuracy_score (from sklearn.metrics):**  \n",
        "  Calculates the proportion of correct predictions for classification tasks.\n",
        "\n",
        "- **r2_score (from sklearn.metrics):**  \n",
        "  Evaluates how well regression predictions match the true continuous values (R² metric).\n",
        "\n",
        "---\n",
        "\n",
        "## Machine Learning Models\n",
        "- **SVC (Support Vector Classifier):**  \n",
        "  Classifies data by finding the best hyperplane that separates classes.\n",
        "\n",
        "- **LogisticRegression:**  \n",
        "  A linear model for binary/multiclass classification using logistic function.\n",
        "\n",
        "- **LinearRegression:**  \n",
        "  Predicts a continuous target variable based on a linear relationship with features.\n",
        "\n",
        "- **KNeighborsClassifier:**  \n",
        "  Classifies data based on the majority class among its k nearest neighbors.\n",
        "\n",
        "- **GaussianNB (Naive Bayes):**  \n",
        "  A probabilistic classifier based on Bayes' theorem with the assumption of normally distributed features.\n",
        "\n",
        "- **RandomForestClassifier:**  \n",
        "  An ensemble method that builds multiple decision trees and combines them for better accuracy and robustness.\n",
        "\n",
        "- **BaggingClassifier:**  \n",
        "  Uses bootstrap aggregating (bagging) to train multiple base estimators on random subsets and aggregates their predictions.\n",
        "\n",
        "- **AdaBoostClassifier:**  \n",
        "  Boosting algorithm that combines weak learners iteratively, focusing on misclassified samples.\n",
        "\n",
        "- **XGBClassifier (from xgboost):**  \n",
        "  Extreme Gradient Boosting classifier — a high-performance boosting algorithm optimized for speed and accuracy.\n",
        "\n",
        "---\n",
        "\n",
        "## Model Persistence\n",
        "- **joblib:**  \n",
        "  Used to efficiently save and load large NumPy arrays or scikit-learn models.\n",
        "\n",
        "- **pickle:**  \n",
        "  Serializes Python objects (e.g., trained models) for saving and reloading.\n",
        "\n"
      ],
      "metadata": {
        "id": "7EGIB5zryqq2"
      }
    },
    {
      "cell_type": "code",
      "execution_count": null,
      "metadata": {
        "id": "PnettNFm-lGP"
      },
      "outputs": [],
      "source": [
        "import pandas as pd\n",
        "from sklearn.model_selection import train_test_split\n",
        "from sklearn.preprocessing import OneHotEncoder, StandardScaler\n",
        "from sklearn.compose import ColumnTransformer\n",
        "from sklearn.pipeline import Pipeline\n",
        "from sklearn.metrics import accuracy_score, r2_score\n",
        "from sklearn.impute import SimpleImputer\n",
        "from sklearn.svm import SVC\n",
        "from sklearn.linear_model import LogisticRegression, LinearRegression\n",
        "from sklearn.neighbors import KNeighborsClassifier\n",
        "from sklearn.naive_bayes import GaussianNB\n",
        "from sklearn.ensemble import RandomForestClassifier, BaggingClassifier, AdaBoostClassifier\n",
        "from xgboost import XGBClassifier\n",
        "import joblib\n",
        "import pickle"
      ]
    },
    {
      "cell_type": "code",
      "source": [
        "def load_data(path):\n",
        "  path = '/content/cleaned_makeup_products.csv'\n",
        "  df = pd.read_csv(path)\n",
        "  df['average_rating'] = pd.to_numeric(df['average_rating'], errors='coerce') # Convert to numeric, coercing errors\n",
        "  return df"
      ],
      "metadata": {
        "id": "3w9CnJUbB2GU"
      },
      "execution_count": null,
      "outputs": []
    },
    {
      "cell_type": "code",
      "source": [
        "def clean_data(df):\n",
        "  # Drop useless columns\n",
        "  cols_to_drop = [c for c in df.columns if \"Unnamed\" in c]\n",
        "  cols_to_drop.extend([\"product_link\", \"product_link_id\", \"faceoff_negative\", \"faceoff_positive\"])\n",
        "  df = df.drop(columns=cols_to_drop, errors='ignore')\n",
        "  # Drop long text review fields = not using NLP\n",
        "  text_cols = [\"pros\", \"cons\", \"best_uses\"]\n",
        "  df = df.drop(columns=text_cols, errors='ignore')\n",
        "  return df"
      ],
      "metadata": {
        "id": "5rQN74P-B6hR"
      },
      "execution_count": null,
      "outputs": []
    },
    {
      "cell_type": "code",
      "source": [
        "def create_target(df):\n",
        "  df = df.dropna(subset=[\"average_rating\"])\n",
        "  df[\"target\"] = df[\"average_rating\"].apply(lambda x: \"Bad\" if x < 4 else \"Good\")\n",
        "  return df"
      ],
      "metadata": {
        "id": "tTSA247vCAW0"
      },
      "execution_count": null,
      "outputs": []
    },
    {
      "cell_type": "code",
      "source": [
        "def split_features_target(df):\n",
        "  X = df.drop(columns=[\"target\", \"average_rating\"])\n",
        "  y = df[\"target\"]\n",
        "  return X, y"
      ],
      "metadata": {
        "id": "LHYDxE_aCDkP"
      },
      "execution_count": null,
      "outputs": []
    },
    {
      "cell_type": "code",
      "source": [
        "def split_train_test(X, y, test_size=0.2, random_state=42):\n",
        "  return train_test_split(X, y, test_size=test_size, random_state=random_state, stratify=y)"
      ],
      "metadata": {
        "id": "OQ1wPkurCa_P"
      },
      "execution_count": null,
      "outputs": []
    },
    {
      "cell_type": "code",
      "source": [
        "def build_preprocessor(X):\n",
        "  cat_cols = X.select_dtypes(include=[\"object\", \"category\"]).columns.tolist()\n",
        "  num_cols = X.select_dtypes(include=[\"int64\", \"float64\"]).columns.tolist()\n",
        "  num_transformer = Pipeline(steps=[\n",
        "  (\"imputer\", SimpleImputer(strategy=\"median\")),\n",
        "  (\"scaler\", StandardScaler())\n",
        "  ])\n",
        "\n",
        "\n",
        "  cat_transformer = Pipeline(steps=[\n",
        "  (\"imputer\", SimpleImputer(strategy=\"most_frequent\")),\n",
        "  (\"onehot\", OneHotEncoder(handle_unknown=\"ignore\"))\n",
        "  ])\n",
        "\n",
        "\n",
        "  preprocessor = ColumnTransformer(\n",
        "  transformers=[\n",
        "  (\"num\", num_transformer, num_cols),\n",
        "  (\"cat\", cat_transformer, cat_cols)\n",
        "  ]\n",
        "  )\n",
        "  return preprocessor"
      ],
      "metadata": {
        "id": "VtO4kB1oCHh_"
      },
      "execution_count": null,
      "outputs": []
    },
    {
      "cell_type": "code",
      "source": [
        "def preprocess_pipeline(path):\n",
        "  df = load_data(path)\n",
        "  df = clean_data(df)\n",
        "  df = create_target(df)\n",
        "  X, y = split_features_target(df)\n",
        "  X_train, X_test, y_train, y_test = split_train_test(X, y)\n",
        "  preprocessor = build_preprocessor(X)\n",
        "  preprocessor.fit(X_train)\n",
        "  X_train_processed = preprocessor.transform(X_train)\n",
        "  X_test_processed = preprocessor.transform(X_test)\n",
        "  return X_train_processed, X_test_processed, y_train, y_test, preprocessor"
      ],
      "metadata": {
        "id": "mGZAAjd_COMF"
      },
      "execution_count": null,
      "outputs": []
    },
    {
      "cell_type": "markdown",
      "source": [
        "svm"
      ],
      "metadata": {
        "id": "eQTqkXCBMA0Z"
      }
    },
    {
      "cell_type": "code",
      "source": [
        "def train_svm(X_train, y_train, X_test, y_test, model_path=\"svm_model.pkl\"):\n",
        "    model = SVC(kernel=\"linear\", probability=True, random_state=42)\n",
        "    model.fit(X_train, y_train)\n",
        "    y_pred = model.predict(X_test)\n",
        "    acc = accuracy_score(y_test, y_pred)\n",
        "    print(\"SVM Accuracy:\", acc)\n",
        "    pickle.dump(model, open(model_path, \"wb\"))\n",
        "    return acc"
      ],
      "metadata": {
        "id": "BubVZ8fjMBO0"
      },
      "execution_count": null,
      "outputs": []
    },
    {
      "cell_type": "code",
      "source": [
        "def load_svm(model_path=\"svm_model.pkl\"):\n",
        "    return pickle.load(open(model_path, \"rb\"))"
      ],
      "metadata": {
        "id": "vjjpOmEJRb_E"
      },
      "execution_count": null,
      "outputs": []
    },
    {
      "cell_type": "code",
      "source": [
        "def predict_svm(model, X_sample):\n",
        "    return model.predict(X_sample)"
      ],
      "metadata": {
        "id": "g4JYb9AYRd-x"
      },
      "execution_count": null,
      "outputs": []
    },
    {
      "cell_type": "markdown",
      "source": [
        "random forest"
      ],
      "metadata": {
        "id": "qR5m7N51MWD7"
      }
    },
    {
      "cell_type": "code",
      "source": [
        "def train_random_forest(X_train, y_train, X_test, y_test, model_path=\"rf_model.pkl\"):\n",
        "    model = RandomForestClassifier(n_estimators=100, random_state=42)\n",
        "    model.fit(X_train, y_train)\n",
        "    y_pred = model.predict(X_test)\n",
        "    acc = accuracy_score(y_test, y_pred)\n",
        "    print(\"Random Forest Accuracy:\", acc)\n",
        "    pickle.dump(model, open(model_path, \"wb\"))\n",
        "    return acc"
      ],
      "metadata": {
        "id": "URUqdBfoMbMB"
      },
      "execution_count": null,
      "outputs": []
    },
    {
      "cell_type": "code",
      "source": [
        "def load_random_forest(model_path=\"rf_model.pkl\"):\n",
        "    return pickle.load(open(model_path, \"rb\"))"
      ],
      "metadata": {
        "id": "KvdPKWL6Riba"
      },
      "execution_count": null,
      "outputs": []
    },
    {
      "cell_type": "code",
      "source": [
        "def predict_random_forest(model, X_sample):\n",
        "    return model.predict(X_sample)"
      ],
      "metadata": {
        "id": "IYZNdqPLRkR4"
      },
      "execution_count": null,
      "outputs": []
    },
    {
      "cell_type": "markdown",
      "source": [
        "bagging"
      ],
      "metadata": {
        "id": "ekDxdbEZMb-v"
      }
    },
    {
      "cell_type": "code",
      "source": [
        "def train_bagging(X_train, y_train, X_test, y_test, model_path=\"bagging_model.pkl\"):\n",
        "    model = BaggingClassifier(n_estimators=100, random_state=42)\n",
        "    model.fit(X_train, y_train)\n",
        "    y_pred = model.predict(X_test)\n",
        "    acc = accuracy_score(y_test, y_pred)\n",
        "    print(\"Bagging Accuracy:\", acc)\n",
        "    pickle.dump(model, open(model_path, \"wb\"))\n",
        "    return acc"
      ],
      "metadata": {
        "id": "UGnlY9feMiEO"
      },
      "execution_count": null,
      "outputs": []
    },
    {
      "cell_type": "code",
      "source": [
        "def load_bagging(model_path=\"bagging_model.pkl\"):\n",
        "    return pickle.load(open(model_path, \"rb\"))"
      ],
      "metadata": {
        "id": "oprhdn14Ro9U"
      },
      "execution_count": null,
      "outputs": []
    },
    {
      "cell_type": "code",
      "source": [
        "def predict_bagging(model, X_sample):\n",
        "    return model.predict(X_sample)"
      ],
      "metadata": {
        "id": "ecySTAnPRq8R"
      },
      "execution_count": null,
      "outputs": []
    },
    {
      "cell_type": "markdown",
      "source": [
        "adaboost"
      ],
      "metadata": {
        "id": "K7vcJJAKMjO0"
      }
    },
    {
      "cell_type": "code",
      "source": [
        "def train_adaboost(X_train, y_train, X_test, y_test, model_path=\"adaboost_model.pkl\"):\n",
        "    model = AdaBoostClassifier(n_estimators=100, random_state=42)\n",
        "    model.fit(X_train, y_train)\n",
        "    y_pred = model.predict(X_test)\n",
        "    acc = accuracy_score(y_test, y_pred)\n",
        "    print(\"AdaBoost Accuracy:\", acc)\n",
        "    pickle.dump(model, open(model_path, \"wb\"))\n",
        "    return acc"
      ],
      "metadata": {
        "id": "DogUrBjYMo7E"
      },
      "execution_count": null,
      "outputs": []
    },
    {
      "cell_type": "code",
      "source": [
        "def load_adaboost(model_path=\"adaboost_model.pkl\"):\n",
        "    return pickle.load(open(model_path, \"rb\"))"
      ],
      "metadata": {
        "id": "bZHg-OF-RyUF"
      },
      "execution_count": null,
      "outputs": []
    },
    {
      "cell_type": "code",
      "source": [
        "def predict_adaboost(model, X_sample):\n",
        "    return model.predict(X_sample)"
      ],
      "metadata": {
        "id": "NquZUPA_RzYz"
      },
      "execution_count": null,
      "outputs": []
    },
    {
      "cell_type": "markdown",
      "source": [
        "xgboost"
      ],
      "metadata": {
        "id": "r1DnbpfNMpxa"
      }
    },
    {
      "cell_type": "code",
      "source": [
        "def train_xgboost(X_train, y_train, X_test, y_test, model_path=\"xgb_model.pkl\"):\n",
        "    model = XGBClassifier(n_estimators=100, use_label_encoder=False, eval_metric=\"logloss\", random_state=42)\n",
        "    model.fit(X_train, y_train)\n",
        "    y_pred = model.predict(X_test)\n",
        "    acc = accuracy_score(y_test, y_pred)\n",
        "    print(\"XGBoost Accuracy:\", acc)\n",
        "    pickle.dump(model, open(model_path, \"wb\"))\n",
        "    return acc"
      ],
      "metadata": {
        "id": "gSBFIWj8MuYC"
      },
      "execution_count": null,
      "outputs": []
    },
    {
      "cell_type": "code",
      "source": [
        "def load_xgboost(model_path=\"xgb_model.pkl\"):\n",
        "    return pickle.load(open(model_path, \"rb\"))"
      ],
      "metadata": {
        "id": "wVwJtECsR7ej"
      },
      "execution_count": null,
      "outputs": []
    },
    {
      "cell_type": "code",
      "source": [
        "def predict_xgboost(model, X_sample):\n",
        "    return model.predict(X_sample)"
      ],
      "metadata": {
        "id": "VdkJ-jyfR9jZ"
      },
      "execution_count": null,
      "outputs": []
    },
    {
      "cell_type": "code",
      "source": [
        "def preprocess_pipeline(path):\n",
        "    df = load_data(path)\n",
        "    df = clean_data(df)\n",
        "    df = create_target(df)\n",
        "    X, y = split_features_target(df)\n",
        "    X_train, X_test, y_train, y_test = split_train_test(X, y)\n",
        "    preprocessor = build_preprocessor(X)\n",
        "    preprocessor.fit(X_train)\n",
        "    X_train_processed = preprocessor.transform(X_train)\n",
        "    X_test_processed = preprocessor.transform(X_test)\n",
        "    return X_train_processed, X_test_processed, y_train, y_test, preprocessor\n"
      ],
      "metadata": {
        "id": "6JjUKqOke4cI"
      },
      "execution_count": null,
      "outputs": []
    },
    {
      "cell_type": "code",
      "source": [
        "X_train_processed, X_test_processed, y_train, y_test, preprocessor= preprocess_pipeline(\"/content/cleaned_makeup_products.csv\")\n"
      ],
      "metadata": {
        "id": "P_9-Vq8PeisW",
        "outputId": "7f443886-c10e-4b4a-f0da-545967a79c6e",
        "colab": {
          "base_uri": "https://localhost:8080/"
        }
      },
      "execution_count": null,
      "outputs": [
        {
          "output_type": "stream",
          "name": "stderr",
          "text": [
            "/tmp/ipython-input-3535726188.py:3: SettingWithCopyWarning: \n",
            "A value is trying to be set on a copy of a slice from a DataFrame.\n",
            "Try using .loc[row_indexer,col_indexer] = value instead\n",
            "\n",
            "See the caveats in the documentation: https://pandas.pydata.org/pandas-docs/stable/user_guide/indexing.html#returning-a-view-versus-a-copy\n",
            "  df[\"target\"] = df[\"average_rating\"].apply(lambda x: \"Bad\" if x < 4 else \"Good\")\n",
            "/usr/local/lib/python3.12/dist-packages/sklearn/impute/_base.py:635: UserWarning: Skipping features without any observed values: ['native_sampling_review_count']. At least one non-missing value is needed for imputation with strategy='most_frequent'.\n",
            "  warnings.warn(\n",
            "/usr/local/lib/python3.12/dist-packages/sklearn/impute/_base.py:635: UserWarning: Skipping features without any observed values: ['native_sampling_review_count']. At least one non-missing value is needed for imputation with strategy='most_frequent'.\n",
            "  warnings.warn(\n",
            "/usr/local/lib/python3.12/dist-packages/sklearn/impute/_base.py:635: UserWarning: Skipping features without any observed values: ['native_sampling_review_count']. At least one non-missing value is needed for imputation with strategy='most_frequent'.\n",
            "  warnings.warn(\n"
          ]
        }
      ]
    },
    {
      "cell_type": "code",
      "source": [
        "# 2. Train and save each model\n",
        "print(\"Training and saving models...\\n\")\n",
        "\n",
        "\n",
        "acc_svm = train_svm(X_train_processed, y_train, X_test_processed, y_test)\n",
        "acc_rf = train_random_forest(X_train_processed, y_train, X_test_processed, y_test)\n",
        "acc_bag = train_bagging(X_train_processed, y_train, X_test_processed, y_test)\n",
        "acc_ada = train_adaboost(X_train_processed, y_train, X_test_processed, y_test)\n",
        "\n",
        "\n",
        "# Convert target variable to numerical for XGBoost\n",
        "y_train_xgb = y_train.map({'Bad': 0, 'Good': 1})\n",
        "y_test_xgb = y_test.map({'Bad': 0, 'Good': 1})\n",
        "\n",
        "acc_xgb = train_xgboost(X_train_processed, y_train_xgb, X_test_processed, y_test_xgb)\n",
        "\n",
        "# 3. Print summary results\n",
        "print(\"\\n===== Model Accuracies =====\")\n",
        "print(f\"SVM          : {acc_svm:.4f}\")\n",
        "print(f\"Random Forest: {acc_rf:.4f}\")\n",
        "print(f\"Bagging      : {acc_bag:.4f}\")\n",
        "print(f\"AdaBoost     : {acc_ada:.4f}\")\n",
        "print(f\"XGBoost      : {acc_xgb:.4f}\")"
      ],
      "metadata": {
        "colab": {
          "base_uri": "https://localhost:8080/"
        },
        "id": "HP48pcrQSUu0",
        "outputId": "6d291e06-d732-40a8-de96-c104bb5d61c6"
      },
      "execution_count": null,
      "outputs": [
        {
          "output_type": "stream",
          "name": "stdout",
          "text": [
            "Training and saving models...\n",
            "\n",
            "SVM Accuracy: 0.9706959706959707\n",
            "Random Forest Accuracy: 0.9120879120879121\n",
            "Bagging Accuracy: 0.9706959706959707\n",
            "AdaBoost Accuracy: 0.9487179487179487\n"
          ]
        },
        {
          "output_type": "stream",
          "name": "stderr",
          "text": [
            "/usr/local/lib/python3.12/dist-packages/xgboost/training.py:183: UserWarning: [17:12:18] WARNING: /workspace/src/learner.cc:738: \n",
            "Parameters: { \"use_label_encoder\" } are not used.\n",
            "\n",
            "  bst.update(dtrain, iteration=i, fobj=obj)\n"
          ]
        },
        {
          "output_type": "stream",
          "name": "stdout",
          "text": [
            "XGBoost Accuracy: 0.9816849816849816\n",
            "\n",
            "===== Model Accuracies =====\n",
            "SVM          : 0.9707\n",
            "Random Forest: 0.9121\n",
            "Bagging      : 0.9707\n",
            "AdaBoost     : 0.9487\n",
            "XGBoost      : 0.9817\n"
          ]
        }
      ]
    },
    {
      "cell_type": "code",
      "source": [
        "results = {}"
      ],
      "metadata": {
        "id": "ckCvmVCyd6QV"
      },
      "execution_count": null,
      "outputs": []
    },
    {
      "cell_type": "code",
      "source": [
        "# Logistic Regression\n",
        "def train_logistic_regression(X_train_processed, y_train, X_test_processed, y_test, model_path=\"logreg_model.pkl\"):\n",
        "  model = LogisticRegression(max_iter=1000, random_state=42)\n",
        "  model.fit(X_train_processed, y_train)\n",
        "  y_pred_log = model.predict(X_test_processed)\n",
        "  acc = accuracy_score(y_test, y_pred_log)\n",
        "  print(\"Logistic Regression Accuracy:\", acc)\n",
        "  pickle.dump(model, open(model_path, \"wb\"))\n",
        "  return acc"
      ],
      "metadata": {
        "id": "8a8ITgBSf3kK"
      },
      "execution_count": null,
      "outputs": []
    },
    {
      "cell_type": "code",
      "source": [
        "def load_logistic_regression(model_path=\"logreg_model.pkl\"):\n",
        "    return pickle.load(open(model_path, \"rb\"))"
      ],
      "metadata": {
        "id": "edZlIELpa14c"
      },
      "execution_count": null,
      "outputs": []
    },
    {
      "cell_type": "code",
      "source": [
        "def predict_logistic_regression(model, X_sample):\n",
        "    return model.predict(X_sample)"
      ],
      "metadata": {
        "id": "_VrKxlTfa4FG"
      },
      "execution_count": null,
      "outputs": []
    },
    {
      "cell_type": "code",
      "source": [
        "# KNN\n",
        "def train_knn(X_train, y_train, X_test, y_test, n_neighbors=5, model_path=\"knn_model.pkl\"):\n",
        "  model = KNeighborsClassifier(n_neighbors=5)\n",
        "  model.fit(X_train_processed, y_train)\n",
        "  y_pred_knn = model.predict(X_test_processed)\n",
        "  acc = accuracy_score(y_test, y_pred_knn)\n",
        "  print(f\"KNN Accuracy (k={n_neighbors}):\", acc)\n",
        "  pickle.dump(model, open(model_path, \"wb\"))\n",
        "  return acc"
      ],
      "metadata": {
        "id": "031jAWidf5F9"
      },
      "execution_count": null,
      "outputs": []
    },
    {
      "cell_type": "code",
      "source": [
        "def load_knn(model_path=\"knn_model.pkl\"):\n",
        "    return pickle.load(open(model_path, \"rb\"))"
      ],
      "metadata": {
        "id": "2xPouqSTa7oG"
      },
      "execution_count": null,
      "outputs": []
    },
    {
      "cell_type": "code",
      "source": [
        "def predict_knn(model, X_sample):\n",
        "    return model.predict(X_sample)"
      ],
      "metadata": {
        "id": "24gySuw-a_zA"
      },
      "execution_count": null,
      "outputs": []
    },
    {
      "cell_type": "code",
      "source": [
        "# Naive Bayes\n",
        "# (لو sparse matrix هنحوله لـ dense)\n",
        "def train_naive_bayes(X_train, y_train, X_test, y_test, model_path=\"nb_model.pkl\"):\n",
        "  model = GaussianNB()\n",
        "  X_train_nb = X_train_processed.toarray() if hasattr(X_train_processed, \"toarray\") else X_train_processed\n",
        "  X_test_nb = X_test_processed.toarray() if hasattr(X_test_processed, \"toarray\") else X_test_processed\n",
        "  model.fit(X_train_nb, y_train)\n",
        "  y_pred_nb = model.predict(X_test_nb)\n",
        "  acc = accuracy_score(y_test, y_pred_nb)\n",
        "  print(\"Naive Bayes Accuracy:\", acc)\n",
        "  pickle.dump(model, open(model_path, \"wb\"))\n",
        "  return acc"
      ],
      "metadata": {
        "id": "DBuN7lNff7ay"
      },
      "execution_count": null,
      "outputs": []
    },
    {
      "cell_type": "code",
      "source": [
        "def load_naive_bayes(model_path=\"nb_model.pkl\"):\n",
        "    return pickle.load(open(model_path, \"rb\"))"
      ],
      "metadata": {
        "id": "BRZO6VLabbH0"
      },
      "execution_count": null,
      "outputs": []
    },
    {
      "cell_type": "code",
      "source": [
        "def predict_naive_bayes(model, X_sample):\n",
        "    return model.predict(X_sample)"
      ],
      "metadata": {
        "id": "T5dGTYhgbcqc"
      },
      "execution_count": null,
      "outputs": []
    },
    {
      "cell_type": "code",
      "source": [
        "results_df = pd.DataFrame(list(results.items()), columns=[\"Model\", \"Score\"])\n",
        "print(results_df)"
      ],
      "metadata": {
        "id": "oU6uz0rQf_qS",
        "outputId": "cd0fb7db-a71a-43b2-9c56-8ba1c485bdc4",
        "colab": {
          "base_uri": "https://localhost:8080/"
        }
      },
      "execution_count": null,
      "outputs": [
        {
          "output_type": "stream",
          "name": "stdout",
          "text": [
            "Empty DataFrame\n",
            "Columns: [Model, Score]\n",
            "Index: []\n"
          ]
        }
      ]
    },
    {
      "cell_type": "code",
      "source": [
        "results = {}\n",
        "\n",
        "# Example usage\n",
        "results[\"Logistic Regression\"] = train_logistic_regression(X_train_processed, y_train, X_test_processed, y_test)\n",
        "results[\"KNN\"] = train_knn(X_train_processed, y_train, X_test_processed, y_test)\n",
        "results[\"Naive Bayes\"] = train_naive_bayes(X_train_processed, y_train, X_test_processed, y_test)\n",
        "\n",
        "# Convert to DataFrame\n",
        "results_df = pd.DataFrame(list(results.items()), columns=[\"Model\", \"Score\"])\n",
        "print(results_df)"
      ],
      "metadata": {
        "colab": {
          "base_uri": "https://localhost:8080/"
        },
        "id": "z1ZUSj5mbeS_",
        "outputId": "3b0170a7-aee5-4025-8749-1f90f3024e03"
      },
      "execution_count": null,
      "outputs": [
        {
          "output_type": "stream",
          "name": "stdout",
          "text": [
            "Logistic Regression Accuracy: 0.9560439560439561\n",
            "KNN Accuracy (k=5): 0.8278388278388278\n",
            "Naive Bayes Accuracy: 0.8351648351648352\n",
            "                 Model     Score\n",
            "0  Logistic Regression  0.956044\n",
            "1                  KNN  0.827839\n",
            "2          Naive Bayes  0.835165\n"
          ]
        }
      ]
    },
    {
      "cell_type": "code",
      "metadata": {
        "colab": {
          "base_uri": "https://localhost:8080/",
          "height": 751
        },
        "id": "b355d002",
        "outputId": "cce7bc1f-a70b-49ca-c077-887f556bcb62"
      },
      "source": [
        "import pandas as pd\n",
        "\n",
        "# Load the original dataset\n",
        "original_df = pd.read_csv('/content/cleaned_makeup_products.csv')\n",
        "\n",
        "# Display the first 5 rows\n",
        "display(original_df.head())\n",
        "original_df.shape\n",
        "print(original_df.isnull().sum())"
      ],
      "execution_count": null,
      "outputs": [
        {
          "output_type": "display_data",
          "data": {
            "text/plain": [
              "  product_link_id                                       product_link  \\\n",
              "0               8  https://www.ulta.com/p/futurist-skin-tint-seru...   \n",
              "1              13  https://www.ulta.com/p/dior-forever-fluid-skin...   \n",
              "2              22  https://www.ulta.com/p/barepro-24hr-wear-skin-...   \n",
              "3              32  https://www.ulta.com/p/futurist-hydra-rescue-m...   \n",
              "4              15  https://www.ulta.com/p/mini-cc-cream-with-spf-...   \n",
              "\n",
              "     category  item_id                                       product_name  \\\n",
              "0         NaN  2612458         Futurist Skin Tint Serum Foundation SPF 20   \n",
              "1         NaN  2605037            Dior Forever Fluid Skin Glow Foundation   \n",
              "2         NaN  2619782  BAREPRO 24HR Wear Skin-Perfecting Matte Liquid...   \n",
              "3         NaN  2559137  Futurist Hydra Rescue Moisturizing Foundation ...   \n",
              "4  Foundation  2603710                        Mini CC+ Cream with SPF 50+   \n",
              "\n",
              "             brand price num_shades rating num_reviews  ... Unnamed: 73  \\\n",
              "0  Find your shade    55        NaN    4.4         951  ...         NaN   \n",
              "1             Dior    57         42    4.5        2234  ...         NaN   \n",
              "2     bareMinerals    44        NaN    4.1        3359  ...         NaN   \n",
              "3     Estée Lauder    55        NaN    4.4        5071  ...         NaN   \n",
              "4     IT Cosmetics    22        NaN    4.3       28718  ...         NaN   \n",
              "\n",
              "  Unnamed: 74 Unnamed: 75 Unnamed: 76 Unnamed: 77 Unnamed: 78 Unnamed: 79  \\\n",
              "0         NaN         NaN         NaN         NaN         NaN         NaN   \n",
              "1         NaN         NaN         NaN         NaN         NaN         NaN   \n",
              "2         NaN         NaN         NaN         NaN         NaN         NaN   \n",
              "3         NaN         NaN         NaN         NaN         NaN         NaN   \n",
              "4         NaN         NaN         NaN         NaN         NaN         NaN   \n",
              "\n",
              "  Unnamed: 80 Unnamed: 81 Unnamed: 82  \n",
              "0         NaN         NaN         NaN  \n",
              "1         NaN         NaN         NaN  \n",
              "2         NaN         NaN         NaN  \n",
              "3         NaN         NaN         NaN  \n",
              "4         NaN         NaN         NaN  \n",
              "\n",
              "[5 rows x 83 columns]"
            ],
            "text/html": [
              "\n",
              "  <div id=\"df-cb88ad4a-eec6-46b1-bc2a-976c007b8694\" class=\"colab-df-container\">\n",
              "    <div>\n",
              "<style scoped>\n",
              "    .dataframe tbody tr th:only-of-type {\n",
              "        vertical-align: middle;\n",
              "    }\n",
              "\n",
              "    .dataframe tbody tr th {\n",
              "        vertical-align: top;\n",
              "    }\n",
              "\n",
              "    .dataframe thead th {\n",
              "        text-align: right;\n",
              "    }\n",
              "</style>\n",
              "<table border=\"1\" class=\"dataframe\">\n",
              "  <thead>\n",
              "    <tr style=\"text-align: right;\">\n",
              "      <th></th>\n",
              "      <th>product_link_id</th>\n",
              "      <th>product_link</th>\n",
              "      <th>category</th>\n",
              "      <th>item_id</th>\n",
              "      <th>product_name</th>\n",
              "      <th>brand</th>\n",
              "      <th>price</th>\n",
              "      <th>num_shades</th>\n",
              "      <th>rating</th>\n",
              "      <th>num_reviews</th>\n",
              "      <th>...</th>\n",
              "      <th>Unnamed: 73</th>\n",
              "      <th>Unnamed: 74</th>\n",
              "      <th>Unnamed: 75</th>\n",
              "      <th>Unnamed: 76</th>\n",
              "      <th>Unnamed: 77</th>\n",
              "      <th>Unnamed: 78</th>\n",
              "      <th>Unnamed: 79</th>\n",
              "      <th>Unnamed: 80</th>\n",
              "      <th>Unnamed: 81</th>\n",
              "      <th>Unnamed: 82</th>\n",
              "    </tr>\n",
              "  </thead>\n",
              "  <tbody>\n",
              "    <tr>\n",
              "      <th>0</th>\n",
              "      <td>8</td>\n",
              "      <td>https://www.ulta.com/p/futurist-skin-tint-seru...</td>\n",
              "      <td>NaN</td>\n",
              "      <td>2612458</td>\n",
              "      <td>Futurist Skin Tint Serum Foundation SPF 20</td>\n",
              "      <td>Find your shade</td>\n",
              "      <td>55</td>\n",
              "      <td>NaN</td>\n",
              "      <td>4.4</td>\n",
              "      <td>951</td>\n",
              "      <td>...</td>\n",
              "      <td>NaN</td>\n",
              "      <td>NaN</td>\n",
              "      <td>NaN</td>\n",
              "      <td>NaN</td>\n",
              "      <td>NaN</td>\n",
              "      <td>NaN</td>\n",
              "      <td>NaN</td>\n",
              "      <td>NaN</td>\n",
              "      <td>NaN</td>\n",
              "      <td>NaN</td>\n",
              "    </tr>\n",
              "    <tr>\n",
              "      <th>1</th>\n",
              "      <td>13</td>\n",
              "      <td>https://www.ulta.com/p/dior-forever-fluid-skin...</td>\n",
              "      <td>NaN</td>\n",
              "      <td>2605037</td>\n",
              "      <td>Dior Forever Fluid Skin Glow Foundation</td>\n",
              "      <td>Dior</td>\n",
              "      <td>57</td>\n",
              "      <td>42</td>\n",
              "      <td>4.5</td>\n",
              "      <td>2234</td>\n",
              "      <td>...</td>\n",
              "      <td>NaN</td>\n",
              "      <td>NaN</td>\n",
              "      <td>NaN</td>\n",
              "      <td>NaN</td>\n",
              "      <td>NaN</td>\n",
              "      <td>NaN</td>\n",
              "      <td>NaN</td>\n",
              "      <td>NaN</td>\n",
              "      <td>NaN</td>\n",
              "      <td>NaN</td>\n",
              "    </tr>\n",
              "    <tr>\n",
              "      <th>2</th>\n",
              "      <td>22</td>\n",
              "      <td>https://www.ulta.com/p/barepro-24hr-wear-skin-...</td>\n",
              "      <td>NaN</td>\n",
              "      <td>2619782</td>\n",
              "      <td>BAREPRO 24HR Wear Skin-Perfecting Matte Liquid...</td>\n",
              "      <td>bareMinerals</td>\n",
              "      <td>44</td>\n",
              "      <td>NaN</td>\n",
              "      <td>4.1</td>\n",
              "      <td>3359</td>\n",
              "      <td>...</td>\n",
              "      <td>NaN</td>\n",
              "      <td>NaN</td>\n",
              "      <td>NaN</td>\n",
              "      <td>NaN</td>\n",
              "      <td>NaN</td>\n",
              "      <td>NaN</td>\n",
              "      <td>NaN</td>\n",
              "      <td>NaN</td>\n",
              "      <td>NaN</td>\n",
              "      <td>NaN</td>\n",
              "    </tr>\n",
              "    <tr>\n",
              "      <th>3</th>\n",
              "      <td>32</td>\n",
              "      <td>https://www.ulta.com/p/futurist-hydra-rescue-m...</td>\n",
              "      <td>NaN</td>\n",
              "      <td>2559137</td>\n",
              "      <td>Futurist Hydra Rescue Moisturizing Foundation ...</td>\n",
              "      <td>Estée Lauder</td>\n",
              "      <td>55</td>\n",
              "      <td>NaN</td>\n",
              "      <td>4.4</td>\n",
              "      <td>5071</td>\n",
              "      <td>...</td>\n",
              "      <td>NaN</td>\n",
              "      <td>NaN</td>\n",
              "      <td>NaN</td>\n",
              "      <td>NaN</td>\n",
              "      <td>NaN</td>\n",
              "      <td>NaN</td>\n",
              "      <td>NaN</td>\n",
              "      <td>NaN</td>\n",
              "      <td>NaN</td>\n",
              "      <td>NaN</td>\n",
              "    </tr>\n",
              "    <tr>\n",
              "      <th>4</th>\n",
              "      <td>15</td>\n",
              "      <td>https://www.ulta.com/p/mini-cc-cream-with-spf-...</td>\n",
              "      <td>Foundation</td>\n",
              "      <td>2603710</td>\n",
              "      <td>Mini CC+ Cream with SPF 50+</td>\n",
              "      <td>IT Cosmetics</td>\n",
              "      <td>22</td>\n",
              "      <td>NaN</td>\n",
              "      <td>4.3</td>\n",
              "      <td>28718</td>\n",
              "      <td>...</td>\n",
              "      <td>NaN</td>\n",
              "      <td>NaN</td>\n",
              "      <td>NaN</td>\n",
              "      <td>NaN</td>\n",
              "      <td>NaN</td>\n",
              "      <td>NaN</td>\n",
              "      <td>NaN</td>\n",
              "      <td>NaN</td>\n",
              "      <td>NaN</td>\n",
              "      <td>NaN</td>\n",
              "    </tr>\n",
              "  </tbody>\n",
              "</table>\n",
              "<p>5 rows × 83 columns</p>\n",
              "</div>\n",
              "    <div class=\"colab-df-buttons\">\n",
              "\n",
              "  <div class=\"colab-df-container\">\n",
              "    <button class=\"colab-df-convert\" onclick=\"convertToInteractive('df-cb88ad4a-eec6-46b1-bc2a-976c007b8694')\"\n",
              "            title=\"Convert this dataframe to an interactive table.\"\n",
              "            style=\"display:none;\">\n",
              "\n",
              "  <svg xmlns=\"http://www.w3.org/2000/svg\" height=\"24px\" viewBox=\"0 -960 960 960\">\n",
              "    <path d=\"M120-120v-720h720v720H120Zm60-500h600v-160H180v160Zm220 220h160v-160H400v160Zm0 220h160v-160H400v160ZM180-400h160v-160H180v160Zm440 0h160v-160H620v160ZM180-180h160v-160H180v160Zm440 0h160v-160H620v160Z\"/>\n",
              "  </svg>\n",
              "    </button>\n",
              "\n",
              "  <style>\n",
              "    .colab-df-container {\n",
              "      display:flex;\n",
              "      gap: 12px;\n",
              "    }\n",
              "\n",
              "    .colab-df-convert {\n",
              "      background-color: #E8F0FE;\n",
              "      border: none;\n",
              "      border-radius: 50%;\n",
              "      cursor: pointer;\n",
              "      display: none;\n",
              "      fill: #1967D2;\n",
              "      height: 32px;\n",
              "      padding: 0 0 0 0;\n",
              "      width: 32px;\n",
              "    }\n",
              "\n",
              "    .colab-df-convert:hover {\n",
              "      background-color: #E2EBFA;\n",
              "      box-shadow: 0px 1px 2px rgba(60, 64, 67, 0.3), 0px 1px 3px 1px rgba(60, 64, 67, 0.15);\n",
              "      fill: #174EA6;\n",
              "    }\n",
              "\n",
              "    .colab-df-buttons div {\n",
              "      margin-bottom: 4px;\n",
              "    }\n",
              "\n",
              "    [theme=dark] .colab-df-convert {\n",
              "      background-color: #3B4455;\n",
              "      fill: #D2E3FC;\n",
              "    }\n",
              "\n",
              "    [theme=dark] .colab-df-convert:hover {\n",
              "      background-color: #434B5C;\n",
              "      box-shadow: 0px 1px 3px 1px rgba(0, 0, 0, 0.15);\n",
              "      filter: drop-shadow(0px 1px 2px rgba(0, 0, 0, 0.3));\n",
              "      fill: #FFFFFF;\n",
              "    }\n",
              "  </style>\n",
              "\n",
              "    <script>\n",
              "      const buttonEl =\n",
              "        document.querySelector('#df-cb88ad4a-eec6-46b1-bc2a-976c007b8694 button.colab-df-convert');\n",
              "      buttonEl.style.display =\n",
              "        google.colab.kernel.accessAllowed ? 'block' : 'none';\n",
              "\n",
              "      async function convertToInteractive(key) {\n",
              "        const element = document.querySelector('#df-cb88ad4a-eec6-46b1-bc2a-976c007b8694');\n",
              "        const dataTable =\n",
              "          await google.colab.kernel.invokeFunction('convertToInteractive',\n",
              "                                                    [key], {});\n",
              "        if (!dataTable) return;\n",
              "\n",
              "        const docLinkHtml = 'Like what you see? Visit the ' +\n",
              "          '<a target=\"_blank\" href=https://colab.research.google.com/notebooks/data_table.ipynb>data table notebook</a>'\n",
              "          + ' to learn more about interactive tables.';\n",
              "        element.innerHTML = '';\n",
              "        dataTable['output_type'] = 'display_data';\n",
              "        await google.colab.output.renderOutput(dataTable, element);\n",
              "        const docLink = document.createElement('div');\n",
              "        docLink.innerHTML = docLinkHtml;\n",
              "        element.appendChild(docLink);\n",
              "      }\n",
              "    </script>\n",
              "  </div>\n",
              "\n",
              "\n",
              "    <div id=\"df-b774a966-2770-4a51-b70c-fcc8a4b193f6\">\n",
              "      <button class=\"colab-df-quickchart\" onclick=\"quickchart('df-b774a966-2770-4a51-b70c-fcc8a4b193f6')\"\n",
              "                title=\"Suggest charts\"\n",
              "                style=\"display:none;\">\n",
              "\n",
              "<svg xmlns=\"http://www.w3.org/2000/svg\" height=\"24px\"viewBox=\"0 0 24 24\"\n",
              "     width=\"24px\">\n",
              "    <g>\n",
              "        <path d=\"M19 3H5c-1.1 0-2 .9-2 2v14c0 1.1.9 2 2 2h14c1.1 0 2-.9 2-2V5c0-1.1-.9-2-2-2zM9 17H7v-7h2v7zm4 0h-2V7h2v10zm4 0h-2v-4h2v4z\"/>\n",
              "    </g>\n",
              "</svg>\n",
              "      </button>\n",
              "\n",
              "<style>\n",
              "  .colab-df-quickchart {\n",
              "      --bg-color: #E8F0FE;\n",
              "      --fill-color: #1967D2;\n",
              "      --hover-bg-color: #E2EBFA;\n",
              "      --hover-fill-color: #174EA6;\n",
              "      --disabled-fill-color: #AAA;\n",
              "      --disabled-bg-color: #DDD;\n",
              "  }\n",
              "\n",
              "  [theme=dark] .colab-df-quickchart {\n",
              "      --bg-color: #3B4455;\n",
              "      --fill-color: #D2E3FC;\n",
              "      --hover-bg-color: #434B5C;\n",
              "      --hover-fill-color: #FFFFFF;\n",
              "      --disabled-bg-color: #3B4455;\n",
              "      --disabled-fill-color: #666;\n",
              "  }\n",
              "\n",
              "  .colab-df-quickchart {\n",
              "    background-color: var(--bg-color);\n",
              "    border: none;\n",
              "    border-radius: 50%;\n",
              "    cursor: pointer;\n",
              "    display: none;\n",
              "    fill: var(--fill-color);\n",
              "    height: 32px;\n",
              "    padding: 0;\n",
              "    width: 32px;\n",
              "  }\n",
              "\n",
              "  .colab-df-quickchart:hover {\n",
              "    background-color: var(--hover-bg-color);\n",
              "    box-shadow: 0 1px 2px rgba(60, 64, 67, 0.3), 0 1px 3px 1px rgba(60, 64, 67, 0.15);\n",
              "    fill: var(--button-hover-fill-color);\n",
              "  }\n",
              "\n",
              "  .colab-df-quickchart-complete:disabled,\n",
              "  .colab-df-quickchart-complete:disabled:hover {\n",
              "    background-color: var(--disabled-bg-color);\n",
              "    fill: var(--disabled-fill-color);\n",
              "    box-shadow: none;\n",
              "  }\n",
              "\n",
              "  .colab-df-spinner {\n",
              "    border: 2px solid var(--fill-color);\n",
              "    border-color: transparent;\n",
              "    border-bottom-color: var(--fill-color);\n",
              "    animation:\n",
              "      spin 1s steps(1) infinite;\n",
              "  }\n",
              "\n",
              "  @keyframes spin {\n",
              "    0% {\n",
              "      border-color: transparent;\n",
              "      border-bottom-color: var(--fill-color);\n",
              "      border-left-color: var(--fill-color);\n",
              "    }\n",
              "    20% {\n",
              "      border-color: transparent;\n",
              "      border-left-color: var(--fill-color);\n",
              "      border-top-color: var(--fill-color);\n",
              "    }\n",
              "    30% {\n",
              "      border-color: transparent;\n",
              "      border-left-color: var(--fill-color);\n",
              "      border-top-color: var(--fill-color);\n",
              "      border-right-color: var(--fill-color);\n",
              "    }\n",
              "    40% {\n",
              "      border-color: transparent;\n",
              "      border-right-color: var(--fill-color);\n",
              "      border-top-color: var(--fill-color);\n",
              "    }\n",
              "    60% {\n",
              "      border-color: transparent;\n",
              "      border-right-color: var(--fill-color);\n",
              "    }\n",
              "    80% {\n",
              "      border-color: transparent;\n",
              "      border-right-color: var(--fill-color);\n",
              "      border-bottom-color: var(--fill-color);\n",
              "    }\n",
              "    90% {\n",
              "      border-color: transparent;\n",
              "      border-bottom-color: var(--fill-color);\n",
              "    }\n",
              "  }\n",
              "</style>\n",
              "\n",
              "      <script>\n",
              "        async function quickchart(key) {\n",
              "          const quickchartButtonEl =\n",
              "            document.querySelector('#' + key + ' button');\n",
              "          quickchartButtonEl.disabled = true;  // To prevent multiple clicks.\n",
              "          quickchartButtonEl.classList.add('colab-df-spinner');\n",
              "          try {\n",
              "            const charts = await google.colab.kernel.invokeFunction(\n",
              "                'suggestCharts', [key], {});\n",
              "          } catch (error) {\n",
              "            console.error('Error during call to suggestCharts:', error);\n",
              "          }\n",
              "          quickchartButtonEl.classList.remove('colab-df-spinner');\n",
              "          quickchartButtonEl.classList.add('colab-df-quickchart-complete');\n",
              "        }\n",
              "        (() => {\n",
              "          let quickchartButtonEl =\n",
              "            document.querySelector('#df-b774a966-2770-4a51-b70c-fcc8a4b193f6 button');\n",
              "          quickchartButtonEl.style.display =\n",
              "            google.colab.kernel.accessAllowed ? 'block' : 'none';\n",
              "        })();\n",
              "      </script>\n",
              "    </div>\n",
              "\n",
              "    </div>\n",
              "  </div>\n"
            ],
            "application/vnd.google.colaboratory.intrinsic+json": {
              "type": "dataframe"
            }
          },
          "metadata": {}
        },
        {
          "output_type": "stream",
          "name": "stdout",
          "text": [
            "product_link_id       0\n",
            "product_link          0\n",
            "category             22\n",
            "item_id             520\n",
            "product_name          0\n",
            "                   ... \n",
            "Unnamed: 78        1386\n",
            "Unnamed: 79        1384\n",
            "Unnamed: 80        1384\n",
            "Unnamed: 81        1384\n",
            "Unnamed: 82        1384\n",
            "Length: 83, dtype: int64\n"
          ]
        }
      ]
    },
    {
      "cell_type": "code",
      "metadata": {
        "colab": {
          "base_uri": "https://localhost:8080/"
        },
        "id": "f971b8cd",
        "outputId": "3de7aefe-2fc1-4d9f-8da6-6cebb15d1e56"
      },
      "source": [
        "#High rated sample\n",
        "\n",
        "# Assuming df_cleaned is already available from previous steps\n",
        "if 'df_cleaned' not in locals():\n",
        "    df = load_data('/content/cleaned_makeup_products.csv')\n",
        "    df_cleaned = clean_data(df)\n",
        "\n",
        "\n",
        "# Filter for products with average rating >= 4 (Good rating)\n",
        "good_rating_products = df_cleaned[df_cleaned['average_rating'] >= 4]\n",
        "\n",
        "# Select a sample product from the filtered list (e.g., the first one)\n",
        "if not good_rating_products.empty:\n",
        "    sample_product_good = good_rating_products.iloc[0]\n",
        "\n",
        "    # Get the average rating and determine the target label\n",
        "    average_rating_good = sample_product_good['average_rating']\n",
        "    target_label_good = \"Bad\" if average_rating_good < 4 else \"Good\" # This will always be \"Good\" for these samples\n",
        "\n",
        "    print(\"Sample Makeup Product Details (Average Rating >= 4):\")\n",
        "    print(sample_product_good)\n",
        "    print(\"\\nAverage Rating:\", average_rating_good)\n",
        "    print(\"Predicted Rating Category:\", target_label_good)\n",
        "else:\n",
        "    print(\"No products found with an average rating greater than or equal to 4 in the dataset.\")"
      ],
      "execution_count": null,
      "outputs": [
        {
          "output_type": "stream",
          "name": "stdout",
          "text": [
            "Sample Makeup Product Details (Average Rating >= 4):\n",
            "category                                                                               NaN\n",
            "item_id                                                                            2612458\n",
            "product_name                                    Futurist Skin Tint Serum Foundation SPF 20\n",
            "brand                                                                      Find your shade\n",
            "price                                                                                   55\n",
            "num_shades                                                                             NaN\n",
            "rating                                                                                 4.4\n",
            "num_reviews                                                                            951\n",
            "description                              Use the following zoom and pan buttons to cont...\n",
            "describe_yourself                        20s beauty lovet 26 year female 30 30 somethin...\n",
            "review_star_1                                                                          286\n",
            "review_star_2                                                                           86\n",
            "review_star_3                                                                          533\n",
            "review_star_4                                                                           17\n",
            "review_star_5                                                                           29\n",
            "rating_star_1                                                                          286\n",
            "rating_star_2                                                                           86\n",
            "rating_star_3                                                                          533\n",
            "rating_star_4                                                                           17\n",
            "rating_star_5                                                                           29\n",
            "rating_count                                                                           951\n",
            "review_count                                                                           951\n",
            "average_rating                                                                        4.36\n",
            "recommended_ratio                                                                     0.91\n",
            "native_review_count                                                                     53\n",
            "native_sampling_review_count                                                           NaN\n",
            "native_community_content_review_count                                                    0\n",
            "syndicated_review_count                                                                898\n",
            "Name: 0, dtype: object\n",
            "\n",
            "Average Rating: 4.36\n",
            "Predicted Rating Category: Good\n"
          ]
        }
      ]
    },
    {
      "cell_type": "code",
      "metadata": {
        "colab": {
          "base_uri": "https://localhost:8080/"
        },
        "id": "3646a22d",
        "outputId": "e2f85e2e-1469-4d6a-fa16-e849001214c7"
      },
      "source": [
        "#Low rated sample\n",
        "\n",
        "# Assuming df_cleaned is already available from previous steps\n",
        "if 'df_cleaned' not in locals():\n",
        "    df = load_data('/content/cleaned_makeup_products.csv')\n",
        "    df_cleaned = clean_data(df)\n",
        "\n",
        "\n",
        "# Filter for products with average rating < 4 (Bad rating)\n",
        "bad_rating_products = df_cleaned[df_cleaned['average_rating'] < 4]\n",
        "\n",
        "# Select a sample product from the filtered list (e.g., the first one)\n",
        "if not bad_rating_products.empty:\n",
        "    sample_product_bad = bad_rating_products.iloc[0]\n",
        "\n",
        "    # Get the average rating and determine the target label\n",
        "    average_rating = sample_product_bad['average_rating']\n",
        "    target_label = \"Bad\" if average_rating < 4 else \"Good\" # This will always be \"Bad\" for these samples\n",
        "\n",
        "    print(\"Sample Makeup Product Details (Average Rating < 4):\")\n",
        "    print(sample_product_bad)\n",
        "    print(\"\\nAverage Rating:\", average_rating)\n",
        "    print(\"Predicted Rating Category:\", target_label)\n",
        "else:\n",
        "    print(\"No products found with an average rating less than 4 in the dataset.\")"
      ],
      "execution_count": null,
      "outputs": [
        {
          "output_type": "stream",
          "name": "stdout",
          "text": [
            "Sample Makeup Product Details (Average Rating < 4):\n",
            "category                                                                        Foundation\n",
            "item_id                                                                            2592558\n",
            "product_name                              Pro Filt'r Soft Matte Longwear Liquid Foundation\n",
            "brand                                                              FENTY BEAUTY by Rihanna\n",
            "price                                                                                   40\n",
            "num_shades                                                                              50\n",
            "rating                                                                                 3.8\n",
            "num_reviews                                                                            771\n",
            "description                              Use the following zoom and pan buttons to cont...\n",
            "describe_yourself                                                                      NaN\n",
            "review_star_1                                                                           83\n",
            "review_star_2                                                                          122\n",
            "review_star_3                                                                           78\n",
            "review_star_4                                                                          431\n",
            "review_star_5                                                                           57\n",
            "rating_star_1                                                                           83\n",
            "rating_star_2                                                                          122\n",
            "rating_star_3                                                                           78\n",
            "rating_star_4                                                                          431\n",
            "rating_star_5                                                                           57\n",
            "rating_count                                                                           771\n",
            "review_count                                                                           771\n",
            "average_rating                                                                        3.77\n",
            "recommended_ratio                                                                     0.79\n",
            "native_review_count                                                                    771\n",
            "native_sampling_review_count                                                           NaN\n",
            "native_community_content_review_count                                                    0\n",
            "syndicated_review_count                                                                  0\n",
            "Name: 14, dtype: object\n",
            "\n",
            "Average Rating: 3.77\n",
            "Predicted Rating Category: Bad\n"
          ]
        }
      ]
    },
    {
      "cell_type": "code",
      "metadata": {
        "colab": {
          "base_uri": "https://localhost:8080/"
        },
        "id": "dfdad5e6",
        "outputId": "e9708937-b85b-4450-c438-cd8f136b44f4"
      },
      "source": [
        "# Assuming sample_product_good and sample_product_bad are available from previous steps\n",
        "# If not, you might need to re-run the cells that create them\n",
        "if 'sample_product_good' not in locals() or 'sample_product_bad' not in locals():\n",
        "    print(\"Sample products not found. Please run the cells to select sample products first.\")\n",
        "else:\n",
        "    # Convert sample products to DataFrames (preprocessor expects DataFrame-like input)\n",
        "    # Need to ensure columns match the original X used for preprocessor fitting\n",
        "    # Load and clean the data again to get the correct column order\n",
        "    df_loaded_for_cols = load_data('/content/cleaned_makeup_products.csv')\n",
        "    df_cleaned_for_cols = clean_data(df_loaded_for_cols)\n",
        "    X_original_for_cols, y_original_for_cols = split_features_target(create_target(df_cleaned_for_cols))\n",
        "\n",
        "\n",
        "    # Create DataFrames for the sample products, ensuring column order\n",
        "    sample_product_good_df = pd.DataFrame([sample_product_good], columns=X_original_for_cols.columns)\n",
        "    sample_product_bad_df = pd.DataFrame([sample_product_bad], columns=X_original_for_cols.columns)\n",
        "\n",
        "    # Preprocess the sample products using the fitted preprocessor\n",
        "    # Assuming preprocessor is available from a previous step\n",
        "    if 'preprocessor' not in locals():\n",
        "         X_train_processed, X_test_processed, y_train, y_test, preprocessor = preprocess_pipeline('/content/cleaned_makeup_products.csv')\n",
        "\n",
        "\n",
        "    X_sample_good_processed = preprocessor.transform(sample_product_good_df)\n",
        "    X_sample_bad_processed = preprocessor.transform(sample_product_bad_df)\n",
        "\n",
        "\n",
        "    print(\"Predictions for Sample Products:\\n\")\n",
        "\n",
        "    # Load and predict using each trained model\n",
        "    models = {\n",
        "        \"Logistic Regression\": load_logistic_regression(),\n",
        "        \"KNN\": load_knn(),\n",
        "        \"Naive Bayes\": load_naive_bayes(),\n",
        "        \"SVM\": load_svm(),\n",
        "        \"Random Forest\": load_random_forest(),\n",
        "        \"Bagging\": load_bagging(),\n",
        "        \"AdaBoost\": load_adaboost(),\n",
        "        \"XGBoost\": load_xgboost()\n",
        "\n",
        "    }\n",
        "\n",
        "    # For Naive Bayes, ensure dense input if needed\n",
        "    X_sample_good_nb = X_sample_good_processed.toarray() if hasattr(X_sample_good_processed, \"toarray\") else X_sample_good_processed\n",
        "    X_sample_bad_nb = X_sample_bad_processed.toarray() if hasattr(X_sample_bad_processed, \"toarray\") else X_sample_bad_processed\n",
        "\n",
        "\n",
        "    for model_name, model in models.items():\n",
        "        try:\n",
        "            if model_name == \"Naive Bayes\":\n",
        "                 prediction_good = model.predict(X_sample_good_nb)[0]\n",
        "                 prediction_bad = model.predict(X_sample_bad_nb)[0]\n",
        "            else:\n",
        "                 prediction_good = model.predict(X_sample_good_processed)[0]\n",
        "                 prediction_bad = model.predict(X_sample_bad_processed)[0]\n",
        "\n",
        "\n",
        "            print(f\"{model_name}:\")\n",
        "            print(f\"  Sample (Good): Predicted = {prediction_good} (True = Good)\")\n",
        "            print(f\"  Sample (Bad): Predicted = {prediction_bad} (True = Bad)\")\n",
        "            print(\"\\n\")\n",
        "        except Exception as e:\n",
        "            print(f\"  Error predicting with {model_name}: {e}\")\n",
        "            print(\"\\n\")"
      ],
      "execution_count": null,
      "outputs": [
        {
          "output_type": "stream",
          "name": "stderr",
          "text": [
            "/tmp/ipython-input-3535726188.py:3: SettingWithCopyWarning: \n",
            "A value is trying to be set on a copy of a slice from a DataFrame.\n",
            "Try using .loc[row_indexer,col_indexer] = value instead\n",
            "\n",
            "See the caveats in the documentation: https://pandas.pydata.org/pandas-docs/stable/user_guide/indexing.html#returning-a-view-versus-a-copy\n",
            "  df[\"target\"] = df[\"average_rating\"].apply(lambda x: \"Bad\" if x < 4 else \"Good\")\n",
            "/usr/local/lib/python3.12/dist-packages/sklearn/impute/_base.py:635: UserWarning: Skipping features without any observed values: ['native_sampling_review_count']. At least one non-missing value is needed for imputation with strategy='most_frequent'.\n",
            "  warnings.warn(\n",
            "/usr/local/lib/python3.12/dist-packages/sklearn/impute/_base.py:635: UserWarning: Skipping features without any observed values: ['native_sampling_review_count']. At least one non-missing value is needed for imputation with strategy='most_frequent'.\n",
            "  warnings.warn(\n"
          ]
        },
        {
          "output_type": "stream",
          "name": "stdout",
          "text": [
            "Predictions for Sample Products:\n",
            "\n",
            "Logistic Regression:\n",
            "  Sample (Good): Predicted = Good (True = Good)\n",
            "  Sample (Bad): Predicted = Bad (True = Bad)\n",
            "\n",
            "\n",
            "KNN:\n",
            "  Sample (Good): Predicted = Good (True = Good)\n",
            "  Sample (Bad): Predicted = Good (True = Bad)\n",
            "\n",
            "\n",
            "Naive Bayes:\n",
            "  Sample (Good): Predicted = Good (True = Good)\n",
            "  Sample (Bad): Predicted = Bad (True = Bad)\n",
            "\n",
            "\n",
            "SVM:\n",
            "  Sample (Good): Predicted = Good (True = Good)\n",
            "  Sample (Bad): Predicted = Bad (True = Bad)\n",
            "\n",
            "\n",
            "Random Forest:\n",
            "  Sample (Good): Predicted = Good (True = Good)\n",
            "  Sample (Bad): Predicted = Bad (True = Bad)\n",
            "\n",
            "\n",
            "Bagging:\n",
            "  Sample (Good): Predicted = Good (True = Good)\n",
            "  Sample (Bad): Predicted = Bad (True = Bad)\n",
            "\n",
            "\n",
            "AdaBoost:\n",
            "  Sample (Good): Predicted = Good (True = Good)\n",
            "  Sample (Bad): Predicted = Bad (True = Bad)\n",
            "\n",
            "\n",
            "XGBoost:\n",
            "  Sample (Good): Predicted = 1 (True = Good)\n",
            "  Sample (Bad): Predicted = 0 (True = Bad)\n",
            "\n",
            "\n"
          ]
        }
      ]
    }
  ]
}